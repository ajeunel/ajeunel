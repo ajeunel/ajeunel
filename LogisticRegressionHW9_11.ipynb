{
  "nbformat": 4,
  "nbformat_minor": 0,
  "metadata": {
    "colab": {
      "provenance": [],
      "collapsed_sections": [
        "HMEz95b33aIx"
      ],
      "authorship_tag": "ABX9TyPNxESaxGNgNq4/+z6dX+Rn",
      "include_colab_link": true
    },
    "kernelspec": {
      "name": "python3",
      "display_name": "Python 3"
    },
    "language_info": {
      "name": "python"
    }
  },
  "cells": [
    {
      "cell_type": "markdown",
      "metadata": {
        "id": "view-in-github",
        "colab_type": "text"
      },
      "source": [
        "<a href=\"https://colab.research.google.com/github/ajeunel/ajeunel/blob/main/LogisticRegressionHW9_11.ipynb\" target=\"_parent\"><img src=\"https://colab.research.google.com/assets/colab-badge.svg\" alt=\"Open In Colab\"/></a>"
      ]
    },
    {
      "cell_type": "markdown",
      "source": [
        "## Cleaning dataset"
      ],
      "metadata": {
        "id": "LZfusz76sDLL"
      }
    },
    {
      "cell_type": "code",
      "execution_count": 1,
      "metadata": {
        "id": "oOQU8xHKbU1a"
      },
      "outputs": [],
      "source": [
        "## Cleaning the dataset to only include demographic factors, housing destinantion and total score.\n",
        "\n",
        "import pandas as pd\n",
        "\n",
        "# 1) Read raw data\n",
        "df = pd.read_csv(\"SPDAT_Dataset.csv\")\n",
        "\n",
        "# 1.1) Rename 'intervention' → 'housing_destination'\n",
        "df.rename(columns={'Intervention': 'Housing_destination'}, inplace=True)\n",
        "\n",
        "# 2) Filter only Male/Female\n",
        "df = df[df['Gender'].isin(['Male','Female'])]\n",
        "\n",
        "# 3) Filter to wanted races\n",
        "only_races = ['White','Black','Latino','Asian']\n",
        "df = df[df['Race/Ethnicity'].isin(only_races)]\n",
        "\n",
        "df = df.dropna(subset=['Age_group_at_assessment'])\n",
        "\n",
        "remove_other_age_groups = ['Under 18']\n",
        "df = df[~df['Age_group_at_assessment'].isin(remove_other_age_groups)]\n",
        "\n",
        "# 5) Select only the columns you need\n",
        "df = df[\n",
        "    ['Unique_client_ID',\n",
        "     'Race/Ethnicity',\n",
        "     'Gender',\n",
        "     'Age_group_at_assessment',\n",
        "     'TOTAL_SCORE',\n",
        "     'Housing_destination']\n",
        "]\n",
        "\n",
        "# 6) Reset index\n",
        "df.reset_index(drop=True, inplace=True)\n",
        "\n",
        "# 7) Export cleaned CSV\n",
        "df.to_csv('vispdat_cleaned.csv', index=False)\n",
        "\n"
      ]
    },
    {
      "cell_type": "markdown",
      "source": [
        "## DATA PREPARATION/ ADDING DUMMY DATA\n"
      ],
      "metadata": {
        "id": "HMEz95b33aIx"
      }
    },
    {
      "cell_type": "code",
      "source": [
        "import pandas as pd\n",
        "from sklearn.linear_model import LogisticRegression\n",
        "from sklearn.preprocessing import OneHotEncoder\n",
        "from sklearn.compose import ColumnTransformer\n",
        "from sklearn.pipeline import Pipeline\n",
        "\n",
        "# 1) Load and prepare\n",
        "df = pd.read_csv(\"vispdat_cleaned.csv\")\n",
        "df['is_perm_housed'] = df['Housing_destination'].isin([\"Permanently Housed\"]).astype(int)\n",
        "df[\"Race/Ethnicity\"] = pd.Categorical(\n",
        "    df[\"Race/Ethnicity\"],\n",
        "    categories=[\"White\",\"Black\",\"Latino\",\"Asian\"],\n",
        "    ordered=False\n",
        ")\n",
        "df[\"Age_group_at_assessment\"] = pd.Categorical(\n",
        "    df[\"Age_group_at_assessment\"],\n",
        "    categories=[\"18-24\", \"26-44\", \"45-59\", \"60+\"],\n",
        "    ordered=False\n",
        ")\n",
        "\n",
        "# 2) Define features/target\n",
        "X = df[['TOTAL_SCORE','Race/Ethnicity','Gender','Age_group_at_assessment']]\n",
        "y = df['is_perm_housed']\n",
        "\n",
        "# 3) Creating dummy data. This is lengthy but I ran into issues with encoding dropping the first catagory\n",
        "#.. and not allowing me to specify the reference groups (see paper for explanation)\n",
        "df['Gender_Female'] = (df['Gender'] == 'Female').astype(int)\n",
        "\n",
        "# 3) Create race dummies, omitting 'White' as the reference\n",
        "df['Race_Black']    = (df['Race/Ethnicity'] == 'Black').astype(int)\n",
        "df['Race_Latino'] = (df['Race/Ethnicity'] == 'Latino').astype(int)\n",
        "df['Race_Asian']    = (df['Race/Ethnicity'] == 'Asian').astype(int)\n",
        "\n",
        "#Age Dummy data\n",
        "df['Age_Youth'] = (df['Age_group_at_assessment'] == '18-24').astype(int)\n",
        "df['Age_GenX'] = (df['Age_group_at_assessment'] == '45-59').astype(int)\n",
        "df['Age_Boomer'] = (df['Age_group_at_assessment'] == '60+').astype(int)\n",
        "\n",
        "\n",
        "# 4) Now df has four new columns: Gender_Male, Race_Black, Race_Hispanic, Race_Asian\n",
        "\n",
        "print(df[['Gender_Female', 'Race_Black', 'Race_Latino', 'Race_Asian','Age_Youth','Age_GenX','Age_Boomer']].head())\n",
        "df.to_csv('SPDAT_scores_with_dummy.csv', index=False)\n"
      ],
      "metadata": {
        "colab": {
          "base_uri": "https://localhost:8080/"
        },
        "id": "V7_z2EN63fda",
        "outputId": "0118754a-b937-40c9-b4c5-7ce9a43fbe6e"
      },
      "execution_count": 2,
      "outputs": [
        {
          "output_type": "stream",
          "name": "stdout",
          "text": [
            "   Gender_Female  Race_Black  Race_Latino  Race_Asian  Age_Youth  Age_GenX  \\\n",
            "0              1           0            1           0          0         0   \n",
            "1              0           0            1           0          0         0   \n",
            "2              0           0            0           0          0         1   \n",
            "3              0           1            0           0          0         1   \n",
            "4              1           1            0           0          0         0   \n",
            "\n",
            "   Age_Boomer  \n",
            "0           0  \n",
            "1           0  \n",
            "2           0  \n",
            "3           0  \n",
            "4           1  \n"
          ]
        }
      ]
    },
    {
      "cell_type": "code",
      "source": [
        "# 4) Fit & inspect coefficients\n",
        "import pandas as pd\n",
        "from sklearn.linear_model import LogisticRegression\n",
        "import statsmodels.api as sm\n",
        "\n",
        "# 1) Load your filtered, dummy-augmented DataFrame\n",
        "df = df.drop(columns=[\"Gender\", \"Race/Ethnicity\",\"Age_group_at_assessment\"])\n",
        "\n",
        "# 3) Define X & y\n",
        "features = [\n",
        "    \"Gender_Female\",\n",
        "    \"Race_Black\",\n",
        "    \"Race_Latino\",\n",
        "    \"Race_Asian\",\n",
        "    \"TOTAL_SCORE\",\n",
        "    \"Age_Youth\",\n",
        "    \"Age_GenX\",\n",
        "    \"Age_Boomer\"\n",
        "]\n",
        "X = df[features]\n",
        "y = df['Housing_destination'].isin([\"Permanently Housed\"]).astype(int)\n",
        "\n",
        "# 4a) Quick sklearn fit\n",
        "clf = LogisticRegression(max_iter=1000)\n",
        "clf.fit(X, y)\n",
        "\n",
        "print(\"Sklearn coefficients:\")\n",
        "for feat, coef in zip(features, clf.coef_[0]):\n",
        "    print(f\"  {feat}: {coef:.3f}\")\n",
        "\n",
        "# 4b) Or for a statsmodels summary\n",
        "X2 = sm.add_constant(X)   # adds intercept term\n",
        "logit = sm.Logit(y, X2).fit(disp=False)\n",
        "print(logit.summary())\n",
        "\n"
      ],
      "metadata": {
        "colab": {
          "base_uri": "https://localhost:8080/"
        },
        "id": "1Ydv9WxoHqIo",
        "outputId": "798773af-0fd8-479a-f419-f43755158072"
      },
      "execution_count": 3,
      "outputs": [
        {
          "output_type": "stream",
          "name": "stdout",
          "text": [
            "Sklearn coefficients:\n",
            "  Gender_Female: 0.133\n",
            "  Race_Black: 0.315\n",
            "  Race_Latino: -0.074\n",
            "  Race_Asian: 0.012\n",
            "  TOTAL_SCORE: 0.006\n",
            "  Age_Youth: 0.414\n",
            "  Age_GenX: 0.384\n",
            "  Age_Boomer: 0.597\n",
            "                            Logit Regression Results                           \n",
            "===============================================================================\n",
            "Dep. Variable:     Housing_destination   No. Observations:               129294\n",
            "Model:                           Logit   Df Residuals:                   129285\n",
            "Method:                            MLE   Df Model:                            8\n",
            "Date:                 Mon, 28 Apr 2025   Pseudo R-squ.:                 0.01471\n",
            "Time:                         11:36:07   Log-Likelihood:                -65571.\n",
            "converged:                        True   LL-Null:                       -66550.\n",
            "Covariance Type:             nonrobust   LLR p-value:                     0.000\n",
            "=================================================================================\n",
            "                    coef    std err          z      P>|z|      [0.025      0.975]\n",
            "---------------------------------------------------------------------------------\n",
            "const            -1.8285      0.025    -72.530      0.000      -1.878      -1.779\n",
            "Gender_Female     0.1313      0.014      9.157      0.000       0.103       0.159\n",
            "Race_Black        0.3148      0.018     17.811      0.000       0.280       0.349\n",
            "Race_Latino      -0.0740      0.020     -3.763      0.000      -0.113      -0.035\n",
            "Race_Asian        0.0165      0.059      0.282      0.778      -0.098       0.131\n",
            "TOTAL_SCORE       0.0057      0.002      3.086      0.002       0.002       0.009\n",
            "Age_Youth         0.4192      0.023     18.592      0.000       0.375       0.463\n",
            "Age_GenX          0.3826      0.017     22.689      0.000       0.350       0.416\n",
            "Age_Boomer        0.5970      0.020     30.229      0.000       0.558       0.636\n",
            "=================================================================================\n"
          ]
        }
      ]
    },
    {
      "cell_type": "markdown",
      "source": [
        "## Logistic Regression"
      ],
      "metadata": {
        "id": "Uwfjm5i1LDvH"
      }
    },
    {
      "cell_type": "code",
      "source": [
        "from sklearn.model_selection import train_test_split\n",
        "from sklearn.linear_model     import LogisticRegression\n",
        "from sklearn.metrics          import (\n",
        "    confusion_matrix,\n",
        "    classification_report,\n",
        "    roc_auc_score,\n",
        "    roc_curve\n",
        ")\n",
        "import matplotlib.pyplot       as plt\n",
        "\n",
        "# a) Split out a test set - 80/20 split\n",
        "X = df[[\"Gender_Female\",\"Race_Black\",\"Race_Latino\",\"Race_Asian\",\"Age_Youth\",\"Age_GenX\",\"Age_Boomer\",\"TOTAL_SCORE\"]]\n",
        "y = df['Housing_destination'].isin([\"Permanently Housed\"]).astype(int)\n",
        "X_train, X_test, y_train, y_test = train_test_split(\n",
        "    X, y, test_size=0.2, random_state=42, stratify=y\n",
        ")\n",
        "\n",
        "# b) Fit logistic regression\n",
        "clf = LogisticRegression(max_iter=1000)\n",
        "clf.fit(X_train, y_train)\n",
        "\n",
        "# c) Predict and get probabilities\n",
        "y_pred     = clf.predict(X_test)\n",
        "y_proba    = clf.predict_proba(X_test)[:,1]\n",
        "\n",
        "# d) Confusion matrix & classification report\n",
        "cm = confusion_matrix(y_test, y_pred)\n",
        "print(\"Confusion matrix:\\n\", cm, \"\\n\")\n",
        "print(classification_report(y_test, y_pred,\n",
        "      target_names=[\"Not Permanently Housed\",\"Permanently Housed\"]))\n",
        "\n",
        "# e) ROC AUC\n",
        "auc = roc_auc_score(y_test, y_proba)\n",
        "print(f\"Test AUC: {auc:.3f}\")\n",
        "\n",
        "\n"
      ],
      "metadata": {
        "colab": {
          "base_uri": "https://localhost:8080/"
        },
        "id": "KwYpxIO6LCrg",
        "outputId": "c8aa32b5-8e3f-4010-a9c6-b8cd7947c8e2"
      },
      "execution_count": 4,
      "outputs": [
        {
          "output_type": "stream",
          "name": "stdout",
          "text": [
            "Confusion matrix:\n",
            " [[20414     0]\n",
            " [ 5445     0]] \n",
            "\n",
            "                        precision    recall  f1-score   support\n",
            "\n",
            "Not Permanently Housed       0.79      1.00      0.88     20414\n",
            "    Permanently Housed       0.00      0.00      0.00      5445\n",
            "\n",
            "              accuracy                           0.79     25859\n",
            "             macro avg       0.39      0.50      0.44     25859\n",
            "          weighted avg       0.62      0.79      0.70     25859\n",
            "\n",
            "Test AUC: 0.586\n"
          ]
        },
        {
          "output_type": "stream",
          "name": "stderr",
          "text": [
            "/usr/local/lib/python3.11/dist-packages/sklearn/metrics/_classification.py:1565: UndefinedMetricWarning: Precision is ill-defined and being set to 0.0 in labels with no predicted samples. Use `zero_division` parameter to control this behavior.\n",
            "  _warn_prf(average, modifier, f\"{metric.capitalize()} is\", len(result))\n",
            "/usr/local/lib/python3.11/dist-packages/sklearn/metrics/_classification.py:1565: UndefinedMetricWarning: Precision is ill-defined and being set to 0.0 in labels with no predicted samples. Use `zero_division` parameter to control this behavior.\n",
            "  _warn_prf(average, modifier, f\"{metric.capitalize()} is\", len(result))\n",
            "/usr/local/lib/python3.11/dist-packages/sklearn/metrics/_classification.py:1565: UndefinedMetricWarning: Precision is ill-defined and being set to 0.0 in labels with no predicted samples. Use `zero_division` parameter to control this behavior.\n",
            "  _warn_prf(average, modifier, f\"{metric.capitalize()} is\", len(result))\n"
          ]
        }
      ]
    },
    {
      "cell_type": "markdown",
      "source": [
        "## Module 9 Homework: KNN and SVM"
      ],
      "metadata": {
        "id": "VIsMxNCsKMsW"
      }
    },
    {
      "cell_type": "code",
      "source": [
        "##KNN\n",
        "from sklearn.neighbors import KNeighborsClassifier\n",
        "from sklearn.preprocessing import StandardScaler\n",
        "\n",
        "# Use stanard scaler\n",
        "scaler = StandardScaler()\n",
        "\n",
        "# Fit the scaler\n",
        "X_train_scaled = scaler.fit_transform(X_train)\n",
        "\n",
        "X_test_scaled = scaler.transform(X_test)\n",
        "\n",
        "knn = KNeighborsClassifier(n_neighbors=5)\n",
        "knn.fit(X_train_scaled, y_train)\n",
        "\n",
        "y_proba_knn = knn.predict_proba(X_test_scaled)[:, 1]\n",
        "print(\"KNN AUC:\", roc_auc_score(y_test, y_proba_knn))\n",
        "\n",
        "# d) Confusion matrix & classification report\n",
        "print(classification_report(y_test, y_pred,\n",
        "      target_names=[\"Not Permanently Housed\",\"Permanently Housed\"]))\n"
      ],
      "metadata": {
        "id": "IyoA3XcGBVKg",
        "colab": {
          "base_uri": "https://localhost:8080/"
        },
        "outputId": "9ee358ad-ef5c-48c5-b90b-53a36ac46603"
      },
      "execution_count": 5,
      "outputs": [
        {
          "output_type": "stream",
          "name": "stdout",
          "text": [
            "KNN AUC: 0.533759102105246\n",
            "                        precision    recall  f1-score   support\n",
            "\n",
            "Not Permanently Housed       0.79      1.00      0.88     20414\n",
            "    Permanently Housed       0.00      0.00      0.00      5445\n",
            "\n",
            "              accuracy                           0.79     25859\n",
            "             macro avg       0.39      0.50      0.44     25859\n",
            "          weighted avg       0.62      0.79      0.70     25859\n",
            "\n"
          ]
        },
        {
          "output_type": "stream",
          "name": "stderr",
          "text": [
            "/usr/local/lib/python3.11/dist-packages/sklearn/metrics/_classification.py:1565: UndefinedMetricWarning: Precision is ill-defined and being set to 0.0 in labels with no predicted samples. Use `zero_division` parameter to control this behavior.\n",
            "  _warn_prf(average, modifier, f\"{metric.capitalize()} is\", len(result))\n",
            "/usr/local/lib/python3.11/dist-packages/sklearn/metrics/_classification.py:1565: UndefinedMetricWarning: Precision is ill-defined and being set to 0.0 in labels with no predicted samples. Use `zero_division` parameter to control this behavior.\n",
            "  _warn_prf(average, modifier, f\"{metric.capitalize()} is\", len(result))\n",
            "/usr/local/lib/python3.11/dist-packages/sklearn/metrics/_classification.py:1565: UndefinedMetricWarning: Precision is ill-defined and being set to 0.0 in labels with no predicted samples. Use `zero_division` parameter to control this behavior.\n",
            "  _warn_prf(average, modifier, f\"{metric.capitalize()} is\", len(result))\n"
          ]
        }
      ]
    },
    {
      "cell_type": "code",
      "source": [
        "from sklearn.svm import LinearSVC\n",
        "from sklearn.metrics import roc_auc_score\n",
        "\n",
        "# 1) Instantiate a linear SVM (no kernels → much faster)\n",
        "svm = LinearSVC(C=1.0, max_iter=10_000)\n",
        "\n",
        "# 2) Fit on your scaled training data\n",
        "svm.fit(X_train_scaled, y_train)\n",
        "\n",
        "# 3) Score via decision function (for AUC)\n",
        "y_scores = svm.decision_function(X_test_scaled)\n",
        "\n",
        "# 4) Compute AUC\n",
        "print(\"Linear SVM AUC:\", roc_auc_score(y_test, y_scores))\n",
        "# d) Confusion matrix & classification report\n",
        "print(classification_report(y_test, y_pred,\n",
        "      target_names=[\"Not Permanently Housed\",\"Permanently Housed\"]))\n"
      ],
      "metadata": {
        "colab": {
          "base_uri": "https://localhost:8080/"
        },
        "id": "H7D5r1R4LSld",
        "outputId": "95fe0c65-7ebf-4389-f1d1-bf93318fd92d"
      },
      "execution_count": 12,
      "outputs": [
        {
          "output_type": "stream",
          "name": "stdout",
          "text": [
            "Linear SVM AUC: 0.5860564190854455\n",
            "                        precision    recall  f1-score   support\n",
            "\n",
            "Not Permanently Housed       0.83      0.57      0.68     20414\n",
            "    Permanently Housed       0.26      0.57      0.36      5445\n",
            "\n",
            "              accuracy                           0.57     25859\n",
            "             macro avg       0.55      0.57      0.52     25859\n",
            "          weighted avg       0.71      0.57      0.61     25859\n",
            "\n"
          ]
        }
      ]
    },
    {
      "cell_type": "markdown",
      "source": [
        "#Module 10 Homework: Tree Based Models"
      ],
      "metadata": {
        "id": "pwaBmFSHJyFn"
      }
    },
    {
      "cell_type": "code",
      "source": [
        "#decision tree\n",
        "from sklearn.tree import DecisionTreeClassifier\n",
        "\n",
        "dt = DecisionTreeClassifier()\n",
        "dt.fit(X_train, y_train)\n",
        "\n",
        "y_proba_dt = dt.predict_proba(X_test)[:, 1]   # use un-scaled for trees\n",
        "print(\"Decision Tree AUC:\", roc_auc_score(y_test, y_proba_dt))\n",
        "\n",
        "# Confusion matrix and report\n",
        "print(classification_report(y_test, y_pred,\n",
        "      target_names=[\"Not Permanently Housed\",\"Permanently Housed\"]))\n"
      ],
      "metadata": {
        "colab": {
          "base_uri": "https://localhost:8080/"
        },
        "id": "YSH17ocXCYsZ",
        "outputId": "78f103bc-a800-45ee-c38c-0e27e2fe5cf7"
      },
      "execution_count": 7,
      "outputs": [
        {
          "output_type": "stream",
          "name": "stdout",
          "text": [
            "Decision Tree AUC: 0.5920721820483126\n",
            "                        precision    recall  f1-score   support\n",
            "\n",
            "Not Permanently Housed       0.79      1.00      0.88     20414\n",
            "    Permanently Housed       0.00      0.00      0.00      5445\n",
            "\n",
            "              accuracy                           0.79     25859\n",
            "             macro avg       0.39      0.50      0.44     25859\n",
            "          weighted avg       0.62      0.79      0.70     25859\n",
            "\n"
          ]
        },
        {
          "output_type": "stream",
          "name": "stderr",
          "text": [
            "/usr/local/lib/python3.11/dist-packages/sklearn/metrics/_classification.py:1565: UndefinedMetricWarning: Precision is ill-defined and being set to 0.0 in labels with no predicted samples. Use `zero_division` parameter to control this behavior.\n",
            "  _warn_prf(average, modifier, f\"{metric.capitalize()} is\", len(result))\n",
            "/usr/local/lib/python3.11/dist-packages/sklearn/metrics/_classification.py:1565: UndefinedMetricWarning: Precision is ill-defined and being set to 0.0 in labels with no predicted samples. Use `zero_division` parameter to control this behavior.\n",
            "  _warn_prf(average, modifier, f\"{metric.capitalize()} is\", len(result))\n",
            "/usr/local/lib/python3.11/dist-packages/sklearn/metrics/_classification.py:1565: UndefinedMetricWarning: Precision is ill-defined and being set to 0.0 in labels with no predicted samples. Use `zero_division` parameter to control this behavior.\n",
            "  _warn_prf(average, modifier, f\"{metric.capitalize()} is\", len(result))\n"
          ]
        }
      ]
    },
    {
      "cell_type": "code",
      "source": [
        "from sklearn.ensemble      import RandomForestClassifier\n",
        "from sklearn.metrics       import confusion_matrix, roc_auc_score\n",
        "from sklearn.model_selection import train_test_split\n",
        "\n",
        "X_train, X_test, y_train, y_test = train_test_split(\n",
        "    X, y, test_size=0.2, random_state=42, stratify=y\n",
        ")\n",
        "\n",
        "# Fit a Random Forest with class weights\n",
        "rf = RandomForestClassifier(\n",
        "    n_estimators=200,\n",
        "    max_depth=None,\n",
        "    class_weight=\"balanced\",\n",
        "    random_state=42\n",
        ")\n",
        "rf.fit(X_train, y_train)\n",
        "\n",
        "y_pred  = rf.predict(X_test)\n",
        "y_proba = rf.predict_proba(X_test)[:,1]\n",
        "\n",
        "print(\"RF AUC:\",   roc_auc_score(y_test, y_proba))\n",
        "# Confusion matrix and report\n",
        "print(classification_report(y_test, y_pred,\n",
        "      target_names=[\"Not Permanently Housed\",\"Permanently Housed\"]))"
      ],
      "metadata": {
        "colab": {
          "base_uri": "https://localhost:8080/"
        },
        "id": "YYa0b74-pEUN",
        "outputId": "b611a28f-2c56-46b0-8510-af6e5dbe3822"
      },
      "execution_count": 8,
      "outputs": [
        {
          "output_type": "stream",
          "name": "stdout",
          "text": [
            "RF AUC: 0.5916580502604354\n",
            "                        precision    recall  f1-score   support\n",
            "\n",
            "Not Permanently Housed       0.83      0.57      0.68     20414\n",
            "    Permanently Housed       0.26      0.57      0.36      5445\n",
            "\n",
            "              accuracy                           0.57     25859\n",
            "             macro avg       0.55      0.57      0.52     25859\n",
            "          weighted avg       0.71      0.57      0.61     25859\n",
            "\n"
          ]
        }
      ]
    },
    {
      "cell_type": "markdown",
      "source": [
        "## Module 11 Homework: ADABoost, GradientBoost,XBBoost"
      ],
      "metadata": {
        "id": "c8Z9p_HOJbxM"
      }
    },
    {
      "cell_type": "code",
      "source": [
        "#ada boost\n",
        "from sklearn.ensemble import AdaBoostClassifier\n",
        "\n",
        "ab = AdaBoostClassifier(n_estimators=100, random_state=42)\n",
        "ab.fit(X_train, y_train)\n",
        "\n",
        "y_proba_ab = ab.predict_proba(X_test)[:, 1]\n",
        "print(\"AdaBoost AUC:\", roc_auc_score(y_test, y_proba_ab))\n",
        "\n",
        "# Confusion matrix and report\n",
        "print(classification_report(y_test, y_pred,\n",
        "      target_names=[\"Not Permanently Housed\",\"Permanently Housed\"]))"
      ],
      "metadata": {
        "colab": {
          "base_uri": "https://localhost:8080/"
        },
        "id": "H81UAAoJCb40",
        "outputId": "2603c9a7-b2fb-417d-f291-df3834a35de0"
      },
      "execution_count": 13,
      "outputs": [
        {
          "output_type": "stream",
          "name": "stdout",
          "text": [
            "AdaBoost AUC: 0.5909572852063298\n",
            "                        precision    recall  f1-score   support\n",
            "\n",
            "Not Permanently Housed       0.83      0.57      0.68     20414\n",
            "    Permanently Housed       0.26      0.57      0.36      5445\n",
            "\n",
            "              accuracy                           0.57     25859\n",
            "             macro avg       0.55      0.57      0.52     25859\n",
            "          weighted avg       0.71      0.57      0.61     25859\n",
            "\n"
          ]
        }
      ]
    },
    {
      "cell_type": "code",
      "source": [
        "#gradient boost\n",
        "from sklearn.ensemble import GradientBoostingClassifier\n",
        "\n",
        "gb = GradientBoostingClassifier(n_estimators=100, random_state=42)\n",
        "gb.fit(X_train, y_train)\n",
        "\n",
        "y_proba_gb = gb.predict_proba(X_test)[:, 1]\n",
        "print(\"Gradient Boosting AUC:\", roc_auc_score(y_test, y_proba_gb))\n",
        "\n",
        "# Confusion matrix and report\n",
        "print(classification_report(y_test, y_pred,\n",
        "      target_names=[\"Not Permanently Housed\",\"Permanently Housed\"]))\n"
      ],
      "metadata": {
        "colab": {
          "base_uri": "https://localhost:8080/"
        },
        "id": "-TBNcGVXCi6z",
        "outputId": "2727513b-4a40-4d25-be6b-2d72632baa96"
      },
      "execution_count": 14,
      "outputs": [
        {
          "output_type": "stream",
          "name": "stdout",
          "text": [
            "Gradient Boosting AUC: 0.59581994315466\n",
            "                        precision    recall  f1-score   support\n",
            "\n",
            "Not Permanently Housed       0.83      0.57      0.68     20414\n",
            "    Permanently Housed       0.26      0.57      0.36      5445\n",
            "\n",
            "              accuracy                           0.57     25859\n",
            "             macro avg       0.55      0.57      0.52     25859\n",
            "          weighted avg       0.71      0.57      0.61     25859\n",
            "\n"
          ]
        }
      ]
    },
    {
      "cell_type": "code",
      "source": [
        "##xg boost\n",
        "from xgboost import XGBClassifier\n",
        "\n",
        "xgb = XGBClassifier(use_label_encoder=False, eval_metric='logloss', random_state=42)\n",
        "xgb.fit(X_train, y_train)\n",
        "\n",
        "y_proba_xgb = xgb.predict_proba(X_test)[:, 1]\n",
        "print(\"XGBoost AUC:\", roc_auc_score(y_test, y_proba_xgb))\n",
        "\n",
        "# Confusion matrix and report\n",
        "print(classification_report(y_test, y_pred,\n",
        "      target_names=[\"Not Permanently Housed\",\"Permanently Housed\"]))"
      ],
      "metadata": {
        "colab": {
          "base_uri": "https://localhost:8080/"
        },
        "id": "nOspWjG6Crz1",
        "outputId": "85134725-a3f9-4ae8-8356-fa78ead804bf"
      },
      "execution_count": 15,
      "outputs": [
        {
          "output_type": "stream",
          "name": "stderr",
          "text": [
            "/usr/local/lib/python3.11/dist-packages/xgboost/core.py:158: UserWarning: [11:37:43] WARNING: /workspace/src/learner.cc:740: \n",
            "Parameters: { \"use_label_encoder\" } are not used.\n",
            "\n",
            "  warnings.warn(smsg, UserWarning)\n"
          ]
        },
        {
          "output_type": "stream",
          "name": "stdout",
          "text": [
            "XGBoost AUC: 0.5937668948811035\n",
            "                        precision    recall  f1-score   support\n",
            "\n",
            "Not Permanently Housed       0.83      0.57      0.68     20414\n",
            "    Permanently Housed       0.26      0.57      0.36      5445\n",
            "\n",
            "              accuracy                           0.57     25859\n",
            "             macro avg       0.55      0.57      0.52     25859\n",
            "          weighted avg       0.71      0.57      0.61     25859\n",
            "\n"
          ]
        }
      ]
    }
  ]
}